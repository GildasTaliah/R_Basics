{
  "cells": [
    {
      "cell_type": "markdown",
      "metadata": {
        "id": "view-in-github",
        "colab_type": "text"
      },
      "source": [
        "<a href=\"https://colab.research.google.com/github/GildasTaliah/R_Basics/blob/main/Codility_1_3.ipynb\" target=\"_parent\"><img src=\"https://colab.research.google.com/assets/colab-badge.svg\" alt=\"Open In Colab\"/></a>"
      ]
    },
    {
      "cell_type": "markdown",
      "metadata": {
        "id": "GdUUTUVgJQxe"
      },
      "source": [
        "# Lesson One: Iterations\n",
        "## Binary Gab\n",
        "\n",
        "A binary gap within a positive integer N is any maximal sequence of consecutive zeros that is surrounded by ones at both ends in the binary representation of N.\n",
        "\n",
        "For example, number 9 has binary representation 1001 and contains a binary gap of length 2. The number 529 has binary representation 1000010001 and contains two binary gaps: one of length 4 and one of length 3. The number 20 has binary representation 10100 and contains one binary gap of length 1. The number 15 has binary representation 1111 and has no binary gaps. The number 32 has binary representation 100000 and has no binary gaps.\n",
        "\n",
        "Write a function:\n",
        "\n",
        "def Solution (N):\n",
        "that, given a positive integer N, returns the length of its longest binary gap. The function should return 0 if N doesn't contain a binary gap.\n",
        "\n",
        "For example, given N = 1041 the function should return 5, because N has binary representation 10000010001 and so its longest binary gap is of length 5. Given N = 32 the function should return 0, because N has binary representation '100000' and thus no binary gaps.\n",
        "\n",
        "Write an efficient algorithm for lenghty arrays:"
      ]
    },
    {
      "cell_type": "code",
      "execution_count": null,
      "metadata": {
        "id": "xsq0YTC0LLKg"
      },
      "outputs": [],
      "source": [
        "\n",
        "def Sol_Bin_Gab(N = 1041):\n",
        "\n",
        "\n",
        "  # Obtain binary representation of N\n",
        "  bin_rep = bin(N)[2:]\n",
        "\n",
        "  # Tract the max number of gab and current gab lengths in iterations\n",
        "  max_g = 0\n",
        "  current_g = 0\n",
        "\n",
        "  # Answer question: Have you met a possible gab ?\n",
        "  posibl_gab = 'No'\n",
        "\n",
        "  #11001\n",
        "  # Iterate over each character in 'bin_rep'\n",
        "  for bit in bin_rep:\n",
        "\n",
        "\n",
        "    if bit == '1':\n",
        "\n",
        "      # If '1' is met, check if a gap has been counted\n",
        "      if posibl_gab == 'Yes':\n",
        "        max_g = max(max_g, current_g)\n",
        "        current_g = 0\n",
        "\n",
        "      # Since there exist possible gab, initiate counting\n",
        "      posibl_gab = 'Yes'\n",
        "\n",
        "    # while in a possible gab keep counting zeros in a gab.\n",
        "    elif posibl_gab == 'Yes':\n",
        "      current_g += 1\n",
        "  return max_g\n"
      ]
    },
    {
      "cell_type": "code",
      "execution_count": null,
      "metadata": {
        "colab": {
          "base_uri": "https://localhost:8080/"
        },
        "id": "LeuPONiLFO-F",
        "outputId": "c14827d6-ae86-4b37-eef1-ea5b44b0cca2"
      },
      "outputs": [
        {
          "name": "stdout",
          "output_type": "stream",
          "text": [
            "5\n",
            "0\n"
          ]
        }
      ],
      "source": [
        "print(Sol_Bin_Gab(1041))  # Output: 5\n",
        "print(Sol_Bin_Gab(32))    # Output: 0"
      ]
    },
    {
      "cell_type": "markdown",
      "metadata": {
        "id": "182ke8aPQZi-"
      },
      "source": [
        "# Lesson Two: Arrays\n",
        "\n",
        "## 1 Rotations\n",
        "\n",
        "An array A consisting of N integers is given. Rotation of the array means that each element is shifted right by one index, and the last element of the array is moved to the first place. For example, the rotation of array A = [3, 8, 9, 7, 6] is [6, 3, 8, 9, 7] (elements are shifted right by one index and 6 is moved to the first place).\n",
        "\n",
        "The goal is to rotate array A K times; that is, each element of A will be shifted to the right K times.\n",
        "\n",
        "Write a function:\n",
        "\n",
        "def solution(A, K)\n",
        "that, given an array A consisting of N integers and an integer K, returns the array A rotated K times.\n",
        "\n",
        "For example, given\n",
        "\n",
        "    A = [3, 8, 9, 7, 6]\n",
        "    K = 3\n",
        "the function should return [9, 7, 6, 3, 8]. Three rotations were made:\n",
        "\n",
        "    [3, 8, 9, 7, 6] -> [6, 3, 8, 9, 7]\n",
        "    [6, 3, 8, 9, 7] -> [7, 6, 3, 8, 9]\n",
        "    [7, 6, 3, 8, 9] -> [9, 7, 6, 3, 8]\n",
        "For another example, given\n",
        "\n",
        "    A = [0, 0, 0]\n",
        "    K = 1\n",
        "the function should return [0, 0, 0]\n",
        "\n",
        "Given\n",
        "\n",
        "    A = [1, 2, 3, 4]\n",
        "    K = 4\n",
        "the function should return [1, 2, 3, 4]\n",
        "\n",
        "Assume that:\n",
        "\n",
        "N and K are integers within the range [0..100];\n",
        "each element of array A is an integer within the range [−1,000..1,000].\n"
      ]
    },
    {
      "cell_type": "code",
      "source": [
        "import numpy as np"
      ],
      "metadata": {
        "id": "4n4eiYOkaikP"
      },
      "execution_count": null,
      "outputs": []
    },
    {
      "cell_type": "code",
      "execution_count": null,
      "metadata": {
        "colab": {
          "base_uri": "https://localhost:8080/"
        },
        "id": "14AKA6MhQz4o",
        "outputId": "76c1c87d-4ddc-4d4b-a3f6-7057d186ffce"
      },
      "outputs": [
        {
          "output_type": "stream",
          "name": "stdout",
          "text": [
            "[9, 7, 6, 3, 8]\n",
            "[0, 0, 0]\n",
            "[1, 2, 3, 4]\n"
          ]
        }
      ],
      "source": [
        "def Sol_Rot(A, K):\n",
        "\n",
        "  # If A is empty, no rotations can be made - return A,\n",
        "  # Also if no rotations should be made i.e K = 0, - return A\n",
        "  if not A or K == 0:\n",
        "    return A\n",
        "\n",
        "  # Calculate the effective number of rotations needed\n",
        "  # If K > lenghth of A, return the excess\n",
        "  # If K = lenght of A, return 0\n",
        "  # if K < lenght of A, return K\n",
        "\n",
        "  eff_K = K % len(A)\n",
        "\n",
        "  # Implement Rotations.\n",
        "  # Obtain last effective_K-values of A,\n",
        "  # and combine with all except last effective_K-values of A\n",
        "\n",
        "  return A[-eff_K:] + A[:-eff_K]\n",
        "\n",
        "\n",
        "# Test cases\n",
        "print(Sol_Rot([3, 8, 9, 7, 6], 3))  # Output: [9, 7, 6, 3, 8]\n",
        "print(Sol_Rot([0, 0, 0], 1))        # Output: [0, 0, 0]\n",
        "print(Sol_Rot([1, 2, 3, 4], 4))     # Output: [1, 2, 3, 4]\n"
      ]
    },
    {
      "cell_type": "code",
      "execution_count": null,
      "metadata": {
        "colab": {
          "base_uri": "https://localhost:8080/"
        },
        "id": "KDtnwjSTRfdY",
        "outputId": "b05a16dc-2f28-46bb-8616-b696333828bf"
      },
      "outputs": [
        {
          "output_type": "execute_result",
          "data": {
            "text/plain": [
              "array([49, 48, 47, 46, 45, 44, 43, 42, 41, 40, 39, 38, 37, 36, 35, 34, 33,\n",
              "       32, 31, 30, 29, 28, 27, 26, 25, 24, 23, 22, 21, 20, 19, 18, 17, 16,\n",
              "       15, 14, 13, 12, 11, 10,  9,  8,  7,  6,  5,  4,  3,  2,  1,  0])"
            ]
          },
          "metadata": {},
          "execution_count": 96
        }
      ],
      "source": [
        "A = [3, 8, 9, 7, 6]\n",
        "A = np.arange(50)\n",
        "\n",
        "K = 45\n",
        "\n",
        "# Reverse Order\n",
        "A[::-1]"
      ]
    },
    {
      "cell_type": "code",
      "execution_count": null,
      "metadata": {
        "colab": {
          "base_uri": "https://localhost:8080/"
        },
        "id": "THKT4vl3TMNS",
        "outputId": "35ad0906-dda0-4817-a462-813cb024190e"
      },
      "outputs": [
        {
          "output_type": "execute_result",
          "data": {
            "text/plain": [
              "array([45, 46, 47, 48, 49])"
            ]
          },
          "metadata": {},
          "execution_count": 97
        }
      ],
      "source": [
        "K % len(A)\n",
        "\n",
        "A[-5:]"
      ]
    },
    {
      "cell_type": "markdown",
      "source": [
        "## 2 Odd Number Occurrence\n",
        "\n",
        "\n",
        "A non-empty array A consisting of N integers is given. The array contains an odd number of elements, and each element of the array can be paired with another element that has the same value, except for one element that is left unpaired.\n",
        "\n",
        "For example, in array A such that:\n",
        "\n",
        "  A[0] = 9  A[1] = 3  A[2] = 9\n",
        "  A[3] = 3  A[4] = 9  A[5] = 7\n",
        "  A[6] = 9\n",
        "the elements at indexes 0 and 2 have value 9,\n",
        "the elements at indexes 1 and 3 have value 3,\n",
        "the elements at indexes 4 and 6 have value 9,\n",
        "the element at index 5 has value 7 and is unpaired.\n",
        "Write a function:\n",
        "\n",
        "def solution(A)\n",
        "that, given an array A consisting of N integers fulfilling the above conditions, returns the value of the unpaired element.\n",
        "\n",
        "For example, given array A such that:\n",
        "\n",
        "  A[0] = 9  A[1] = 3  A[2] = 9\n",
        "  A[3] = 3  A[4] = 9  A[5] = 7\n",
        "  A[6] = 9\n",
        "the function should return 7, as explained in the example above.\n",
        "\n",
        "Write an efficient algorithm for the following assumptions:\n",
        "\n",
        "N is an odd integer within the range [1..1,000,000];\n",
        "each element of array A is an integer within the range [1..1,000,000,000];\n",
        "all but one of the values in A occur an even number of times.\n"
      ],
      "metadata": {
        "id": "yyFBsB6hgBWc"
      }
    },
    {
      "cell_type": "code",
      "source": [
        "def Sol_OdNumOcc(A):\n",
        "\n",
        "  # Initialize an empty list for potential odd number\n",
        "  odd_num = list()\n",
        "  #odd_num = set()\n",
        "\n",
        "  for num in A:\n",
        "    if num in odd_num:\n",
        "      odd_num.remove(num)\n",
        "    else:\n",
        "      odd_num.append(num)\n",
        "      #odd_num.add(num)\n",
        "\n",
        "  # Left over numbers are odd!\n",
        "  return odd_num\n"
      ],
      "metadata": {
        "id": "Xo1nzIDHgKWc"
      },
      "execution_count": null,
      "outputs": []
    },
    {
      "cell_type": "code",
      "source": [
        "print(Sol_OdNumOcc([9, 3, 9, 3, 9, 7, 9]))  # Output: 7"
      ],
      "metadata": {
        "colab": {
          "base_uri": "https://localhost:8080/"
        },
        "id": "oOf2aebtgQhx",
        "outputId": "9533ed79-40bf-4bf7-cad6-e196422acdbf"
      },
      "execution_count": null,
      "outputs": [
        {
          "output_type": "stream",
          "name": "stdout",
          "text": [
            "[7]\n"
          ]
        }
      ]
    },
    {
      "cell_type": "markdown",
      "source": [
        "#  Lesson Three. Time Complexity\n",
        "\n",
        "## 1 Frog Jump\n",
        "\n",
        "A small frog wants to get to the other side of the road. The frog is currently located at position X and wants to get to a position greater than or equal to Y. The small frog always jumps a fixed distance, D.\n",
        "\n",
        "Count the minimal number of jumps that the small frog must perform to reach its target.\n",
        "\n",
        "Write a function:\n",
        "\n",
        "def solution(X, Y, D)\n",
        "that, given three integers X, Y and D, returns the minimal number of jumps from position X to a position equal to or greater than Y.\n",
        "\n",
        "For example, given:\n",
        "\n",
        "  X = 10\n",
        "  Y = 85\n",
        "  D = 30\n",
        "the function should return 3, because the frog will be positioned as follows:\n",
        "\n",
        "after the first jump, at position 10 + 30 = 40\n",
        "after the second jump, at position 10 + 30 + 30 = 70\n",
        "after the third jump, at position 10 + 30 + 30 + 30 = 100\n",
        "Write an efficient algorithm for the following assumptions:\n",
        "\n",
        "X, Y and D are integers within the range [1..1,000,000,000];\n",
        "X ≤ Y.\n",
        "\n",
        "\n"
      ],
      "metadata": {
        "id": "2bLuivMFj9u_"
      }
    },
    {
      "cell_type": "code",
      "source": [
        "\n",
        "\n",
        "def Sol_Jump(X, Y, D):\n",
        "\n",
        "  # # Calculate the distance to be covered\n",
        "  distance = Y - X\n",
        "\n",
        "\n",
        "  # Calculate the minimal number of jumps needed\n",
        "  jumps = distance / D\n",
        "\n",
        "  #\n",
        "  if round(jumps) > jumps:\n",
        "    return round(jumps)\n",
        "\n",
        "  else:\n",
        "    diff = jumps - round(jumps)\n",
        "  jumps = jumps + diff\n",
        "\n",
        "  return jumps\n"
      ],
      "metadata": {
        "id": "QiQZBY9WkB6I"
      },
      "execution_count": null,
      "outputs": []
    },
    {
      "cell_type": "code",
      "source": [
        "# Test case\n",
        "print(Sol_Jump(10, 85, 30))  # Output: 3\n"
      ],
      "metadata": {
        "colab": {
          "base_uri": "https://localhost:8080/"
        },
        "id": "shjVSXzDk4aq",
        "outputId": "5f5141a1-d863-4f9b-ea71-ea47669c3ea5"
      },
      "execution_count": null,
      "outputs": [
        {
          "output_type": "stream",
          "name": "stdout",
          "text": [
            "3.0\n"
          ]
        }
      ]
    },
    {
      "cell_type": "code",
      "source": [
        "import math\n",
        "\n",
        "def Sol_jumpB(X, Y, D):\n",
        "    # Calculate the distance to be covered\n",
        "    distance = Y - X\n",
        "\n",
        "    # Calculate the minimal number of jumps needed\n",
        "    jumps = math.ceil(distance / D)\n",
        "\n",
        "    return jumps\n",
        "\n",
        "# Test case\n",
        "print(Sol_jumpB(10, 85, 30))  # Output: 3\n"
      ],
      "metadata": {
        "colab": {
          "base_uri": "https://localhost:8080/"
        },
        "id": "npe8ek8UkC4p",
        "outputId": "707a7b9f-989f-473b-ea8b-a18a0a8ad610"
      },
      "execution_count": null,
      "outputs": [
        {
          "output_type": "stream",
          "name": "stdout",
          "text": [
            "3\n"
          ]
        }
      ]
    },
    {
      "cell_type": "markdown",
      "source": [
        "## 2 Find Missing element\n",
        "\n",
        "An array A consisting of N different integers is given. The array contains integers in the range [1..(N + 1)], which means that exactly one element is missing.\n",
        "\n",
        "Your goal is to find that missing element.\n",
        "\n",
        "Write a function:\n",
        "\n",
        "def solution(A)\n",
        "that, given an array A, returns the value of the missing element.\n",
        "\n",
        "For example, given array A such that:\n",
        "\n",
        "  A[0] = 2\n",
        "  A[1] = 3\n",
        "  A[2] = 1\n",
        "  A[3] = 5\n",
        "the function should return 4, as it is the missing element.\n",
        "\n",
        "Write an efficient algorithm for the following assumptions:\n",
        "\n",
        "N is an integer within the range [0..100,000];\n",
        "the elements of A are all distinct;\n",
        "each element of array A is an integer within the range [1..(N + 1)]."
      ],
      "metadata": {
        "id": "cp400EzpnkVU"
      }
    },
    {
      "cell_type": "code",
      "source": [
        "\n",
        "# since theres only going to be one missing value in the range, the the difference\n",
        "# between the total of all numbers in the range and the total of the numbers\n",
        "# currently in range will result to missing value.\n",
        "\n",
        "\n",
        "def Sol_Miss_Val(A):\n",
        "\n",
        "  # Calculate the sum of the first N+1 integers\n",
        "  # sum of interger equals interger, we '//' to ensure we return an interger.\n",
        "  N = len(A) + 1\n",
        "  total_sum = (N * (N+1)) // 2\n",
        "\n",
        "\n",
        "  # Calculate the sum of element in array\n",
        "  array_sum = sum(A)\n",
        "\n",
        "  # Missing value: Diff between totsum and arraysum\n",
        "  miss_val = total_sum - array_sum\n",
        "\n",
        "  return miss_val\n",
        "\n",
        "# Test case\n",
        "print(Sol_Miss_Val([2, 3, 1, 5, 4, 7]))  # Output: 6\n",
        "print(Sol_Miss_Val([2, 3, 1, 5]))  # Output: 4"
      ],
      "metadata": {
        "colab": {
          "base_uri": "https://localhost:8080/"
        },
        "id": "LK_z08c0psJS",
        "outputId": "0740a133-8e85-423f-db1d-37fbba315a85"
      },
      "execution_count": null,
      "outputs": [
        {
          "output_type": "stream",
          "name": "stdout",
          "text": [
            "6\n",
            "4\n"
          ]
        }
      ]
    },
    {
      "cell_type": "code",
      "source": [
        "# Sum from 1 to N\n",
        "N = 100\n",
        "(N * (N+1)) // 2"
      ],
      "metadata": {
        "colab": {
          "base_uri": "https://localhost:8080/"
        },
        "id": "g3rMiA_esPLY",
        "outputId": "d5e62137-9da5-4a86-a37b-d0a3b8e32d52"
      },
      "execution_count": null,
      "outputs": [
        {
          "output_type": "execute_result",
          "data": {
            "text/plain": [
              "5050"
            ]
          },
          "metadata": {},
          "execution_count": 139
        }
      ]
    },
    {
      "cell_type": "code",
      "source": [],
      "metadata": {
        "id": "4dlp4E3ftv85"
      },
      "execution_count": null,
      "outputs": []
    },
    {
      "cell_type": "markdown",
      "source": [
        "## 3 Tape Equilibrium\n",
        "\n",
        "A non-empty array A consisting of N integers is given. Array A represents numbers on a tape.\n",
        "\n",
        "Any integer P, such that 0 < P < N, splits this tape into two non-empty parts: A[0], A[1], ..., A[P − 1] and A[P], A[P + 1], ..., A[N − 1].\n",
        "\n",
        "The difference between the two parts is the value of: |(A[0] + A[1] + ... + A[P − 1]) − (A[P] + A[P + 1] + ... + A[N − 1])|\n",
        "\n",
        "In other words, it is the absolute difference between the sum of the first part and the sum of the second part.\n",
        "\n",
        "For example, consider array A such that:\n",
        "\n",
        "  A[0] = 3\n",
        "  A[1] = 1\n",
        "  A[2] = 2\n",
        "  A[3] = 4\n",
        "  A[4] = 3\n",
        "We can split this tape in four places:\n",
        "\n",
        "- P = 1, difference = |3 − 10| = 7\n",
        "\n",
        "- P = 2, difference = |4 − 9| = 5\n",
        "\n",
        "- P = 3, difference = |6 − 7| = 1\n",
        "- P = 4, difference = |10 − 3| = 7\n",
        "\n",
        "Write a function:\n",
        "\n",
        "def solution(A)\n",
        "\n",
        "that, given a non-empty array A of N integers, returns the minimal difference that can be achieved.\n",
        "\n",
        "For example, given:\n",
        "\n",
        "  A[0] = 3\n",
        "  A[1] = 1\n",
        "  A[2] = 2\n",
        "  A[3] = 4\n",
        "  A[4] = 3\n",
        "the function should return 1, as explained above.\n",
        "\n",
        "Write an efficient algorithm for the following assumptions:\n",
        "\n",
        "N is an integer within the range [2..100,000];\n",
        "each element of array A is an integer within the range [−1,000..1,000]."
      ],
      "metadata": {
        "id": "xnv5OspJvB4p"
      }
    },
    {
      "cell_type": "code",
      "source": [
        "\n",
        "def SolTapeEquil(A):\n",
        "\n",
        "  # total\n",
        "  total_sum = sum(A)\n",
        "\n",
        "  #we keep adding numners on the left\n",
        "  left_sum = 0\n",
        "  # save rolling min_diff\n",
        "  min_diff = float('inf')\n",
        "  #min_diff = [1]\n",
        "\n",
        "  # Lats elemnt will alwys be on right side of the tape. so loop over all except\n",
        "  for num in A[:-1]:\n",
        "    left_sum += num\n",
        "    right_sum = total_sum - left_sum\n",
        "    diff = abs(left_sum - right_sum)\n",
        "    min_diff = min(min_diff, diff)\n",
        "    #mn = min(min_diff, diff)\n",
        "    #min_diff.clear()\n",
        "    #min_diff.append(mn)\n",
        "\n",
        "  return min_diff"
      ],
      "metadata": {
        "id": "iLQIX6MetwJ9"
      },
      "execution_count": null,
      "outputs": []
    },
    {
      "cell_type": "code",
      "source": [
        "# Test case\n",
        "print(SolTapeEquil([3, 1, 2, 4, 3]))  # Output: 1\n",
        "print(solution([3, 1, 2, 4, 3,0, 0]))  # Output: 1\n",
        "\n"
      ],
      "metadata": {
        "colab": {
          "base_uri": "https://localhost:8080/"
        },
        "id": "Ex10IlfsWV7U",
        "outputId": "741bfbba-395a-4493-eac0-5c5757bfaae6"
      },
      "execution_count": null,
      "outputs": [
        {
          "output_type": "stream",
          "name": "stdout",
          "text": [
            "1\n",
            "1\n"
          ]
        }
      ]
    },
    {
      "cell_type": "markdown",
      "source": [],
      "metadata": {
        "id": "l9WVfcp_clKL"
      }
    },
    {
      "cell_type": "code",
      "source": [],
      "metadata": {
        "id": "f1aEqtouuSkk"
      },
      "execution_count": null,
      "outputs": []
    },
    {
      "cell_type": "markdown",
      "source": [
        "# Fibonacci numbers\n",
        "\n",
        "##\n",
        "\n",
        "\n",
        "The Fibonacci sequence is defined using the following recursive formula:\n",
        "\n",
        "    F(0) = 0\n",
        "    F(1) = 1\n",
        "    F(M) = F(M - 1) + F(M - 2) if M >= 2\n",
        "A small frog wants to get to the other side of a river. The frog is initially located at one bank of the river (position −1) and wants to get to the other bank (position N). The frog can jump over any distance F(K), where F(K) is the K-th Fibonacci number. Luckily, there are many leaves on the river, and the frog can jump between the leaves, but only in the direction of the bank at position N.\n",
        "\n",
        "The leaves on the river are represented in an array A consisting of N integers. Consecutive elements of array A represent consecutive positions from 0 to N − 1 on the river. Array A contains only 0s and/or 1s:\n",
        "\n",
        "0 represents a position without a leaf;\n",
        "1 represents a position containing a leaf.\n",
        "The goal is to count the minimum number of jumps in which the frog can get to the other side of the river (from position −1 to position N). The frog can jump between positions −1 and N (the banks of the river) and every position containing a leaf.\n",
        "\n",
        "For example, consider array A such that:\n",
        "\n",
        "    A[0] = 0\n",
        "    A[1] = 0\n",
        "    A[2] = 0\n",
        "    A[3] = 1\n",
        "    A[4] = 1\n",
        "    A[5] = 0\n",
        "    A[6] = 1\n",
        "    A[7] = 0\n",
        "    A[8] = 0\n",
        "    A[9] = 0\n",
        "    A[10] = 0\n",
        "The frog can make three jumps of length F(5) = 5, F(3) = 2 and F(5) = 5.\n",
        "\n",
        "Write a function:\n",
        "\n",
        "def solution(A)\n",
        "that, given an array A consisting of N integers, returns the minimum number of jumps by which the frog can get to the other side of the river. If the frog cannot reach the other side of the river, the function should return −1.\n",
        "\n",
        "For example, given:\n",
        "\n",
        "    A[0] = 0\n",
        "    A[1] = 0\n",
        "    A[2] = 0\n",
        "    A[3] = 1\n",
        "    A[4] = 1\n",
        "    A[5] = 0\n",
        "    A[6] = 1\n",
        "    A[7] = 0\n",
        "    A[8] = 0\n",
        "    A[9] = 0\n",
        "    A[10] = 0\n",
        "the function should return 3, as explained above.\n",
        "\n",
        "Write an efficient algorithm for the following assumptions:\n",
        "\n",
        "N is an integer within the range [0..100,000];\n",
        "each element of array A is an integer that can have one of the following values: 0, 1.\n"
      ],
      "metadata": {
        "id": "k_mBj-6AuTIH"
      }
    },
    {
      "cell_type": "markdown",
      "source": [
        "**Solution**: To solve this problem, we can used dynamic programming approach.\n",
        "\n",
        "- We define the maximum psossible number of jumps - **max_jumps** lenght of A + 2.\n",
        "- We create an array  *min_jumps*, required number of jumps to reach each position starting from position 0.\n",
        "We initialize min_jumps to 0, since minmum nimber of jumps in position one is 0.\n",
        "- We proceed to calculate the Fibonacci numbers up to max jump length. The current Fibonacci numbers is the sum of the previous two numbers.\n",
        "\n",
        "- Then we iteretae thrugh the positions in the river, updating min_jump array based on  fib_num. If theres a leaf at current position there will be at least one jump, we update the situation accordingly.  That is we check the possible jump length (fib_num) that can reach that current position\n",
        "\n",
        "\n",
        "- Finanly we check if min_number of jumps min_jumps[N] does not equal -1."
      ],
      "metadata": {
        "id": "-gokwb4Sup7A"
      }
    },
    {
      "cell_type": "code",
      "source": [
        "\n",
        "\n",
        "def Sol_Min_Jumps(A):\n",
        "\n",
        "\n",
        "  # Define max numbeer of jumpers\n",
        "  max_jumps = len(A) + 2\n",
        "\n",
        "  # Initielize array for minimum possible number of jumps\n",
        "  min_jumps = [max_jumps] * (len(A) + 2)\n",
        "  min_jumps[0] = 0\n",
        "\n",
        "\n",
        "  fib_num = [0] * max_jumps\n",
        "  fib_num[1] = 1\n",
        "\n",
        "  # create Fib Numbers\n",
        "  for i in range(2, max_jumps):\n",
        "\n",
        "    fib_num[i] = fib_num[i-2] + fib_num[i-1]\n",
        "\n",
        "\n",
        "    # iterate through positions in river\n",
        "  for i in range(len(A)):\n",
        "\n",
        "    # Check if leaf at current position\n",
        "    if A[i] == 1 :\n",
        "\n",
        "      #pdate min number of jumps required\n",
        "      for j in range(1, max_jumps):\n",
        "\n",
        "        if i + fib_num[j] == len(A) + 1 :\n",
        "          min_jumps [len(A)+1] = min(min_jumps[len(A)+1], min_jumps[i] + 1 )\n",
        "\n",
        "        elif i + fib_num[j]  < len(A) + 1  and  A[i + fib_num[j] -1] == 1:\n",
        "          min_jumps[i + fib_num[j]] = min(min_jumps[i + fib_num[j]], min_jumps[i] + 1)\n",
        "\n",
        "    # Check if the frog can reach the other side of the river\n",
        "    if min_jumps[len(A) + 1] != max_jumps:\n",
        "       return min_jumps[len(A) + 1]\n",
        "    else:\n",
        "       return -1\n",
        "\n",
        "print(Sol_Min_Jumps([0, 0, 0, 1, 1, 0, 1, 0, 0, 0, 0]))  # Output: 3\n",
        "\n"
      ],
      "metadata": {
        "colab": {
          "base_uri": "https://localhost:8080/"
        },
        "id": "rbK7ZWnuwNf4",
        "outputId": "67b5d333-1abc-4c90-e33e-9b545b8bbfb5"
      },
      "execution_count": 47,
      "outputs": [
        {
          "output_type": "stream",
          "name": "stdout",
          "text": [
            "-1\n"
          ]
        }
      ]
    },
    {
      "cell_type": "code",
      "source": [
        "# Define max numbeer of jumpers\n",
        "A = [0, 0, 1, 1, 0, 1, 0, 1, 0]\n",
        "max_jumps = len(A) + 2\n",
        "\n",
        "# Initielize array for minimum possible number of jumps\n",
        "min_jumps = [max_jumps] * (len(A) + 2)\n",
        "min_jumps[0] = 0"
      ],
      "metadata": {
        "id": "AMyBiI__xUNN"
      },
      "execution_count": 33,
      "outputs": []
    },
    {
      "cell_type": "code",
      "source": [
        "fib_num = [0] * max_jumps\n",
        "fib_num[1] = 1\n",
        "\n",
        "# create Fib Numbers\n",
        "for i in range(2, max_jumps):\n",
        "  fib_num[i] = fib_num[i-2] + fib_num[i-1]"
      ],
      "metadata": {
        "id": "CdiRAm_ZyS07"
      },
      "execution_count": 34,
      "outputs": []
    },
    {
      "cell_type": "code",
      "source": [],
      "metadata": {
        "colab": {
          "base_uri": "https://localhost:8080/"
        },
        "id": "6ScbGrhc0F8v",
        "outputId": "5eaddce6-ad87-4a07-84f5-11e1109a2337"
      },
      "execution_count": 38,
      "outputs": [
        {
          "output_type": "execute_result",
          "data": {
            "text/plain": [
              "11"
            ]
          },
          "metadata": {},
          "execution_count": 38
        }
      ]
    },
    {
      "cell_type": "code",
      "source": [
        "\n"
      ],
      "metadata": {
        "colab": {
          "base_uri": "https://localhost:8080/",
          "height": 412
        },
        "id": "lx5p45Jk9xH_",
        "outputId": "88703e2f-1d18-48a9-ddab-6b5ec57d2932"
      },
      "execution_count": 27,
      "outputs": [
        {
          "output_type": "error",
          "ename": "IndexError",
          "evalue": "list index out of range",
          "traceback": [
            "\u001b[0;31m---------------------------------------------------------------------------\u001b[0m",
            "\u001b[0;31mIndexError\u001b[0m                                Traceback (most recent call last)",
            "\u001b[0;32m<ipython-input-27-972e2b8e9b00>\u001b[0m in \u001b[0;36m<cell line: 33>\u001b[0;34m()\u001b[0m\n\u001b[1;32m     31\u001b[0m \u001b[0;34m\u001b[0m\u001b[0m\n\u001b[1;32m     32\u001b[0m \u001b[0;31m# Test case\u001b[0m\u001b[0;34m\u001b[0m\u001b[0;34m\u001b[0m\u001b[0m\n\u001b[0;32m---> 33\u001b[0;31m \u001b[0mprint\u001b[0m\u001b[0;34m(\u001b[0m\u001b[0msolution\u001b[0m\u001b[0;34m(\u001b[0m\u001b[0;34m[\u001b[0m\u001b[0;36m0\u001b[0m\u001b[0;34m,\u001b[0m \u001b[0;36m0\u001b[0m\u001b[0;34m,\u001b[0m \u001b[0;36m0\u001b[0m\u001b[0;34m,\u001b[0m \u001b[0;36m1\u001b[0m\u001b[0;34m,\u001b[0m \u001b[0;36m1\u001b[0m\u001b[0;34m,\u001b[0m \u001b[0;36m0\u001b[0m\u001b[0;34m,\u001b[0m \u001b[0;36m1\u001b[0m\u001b[0;34m,\u001b[0m \u001b[0;36m0\u001b[0m\u001b[0;34m,\u001b[0m \u001b[0;36m0\u001b[0m\u001b[0;34m,\u001b[0m \u001b[0;36m0\u001b[0m\u001b[0;34m,\u001b[0m \u001b[0;36m0\u001b[0m\u001b[0;34m]\u001b[0m\u001b[0;34m)\u001b[0m\u001b[0;34m)\u001b[0m  \u001b[0;31m# Output: 3\u001b[0m\u001b[0;34m\u001b[0m\u001b[0;34m\u001b[0m\u001b[0m\n\u001b[0m\u001b[1;32m     34\u001b[0m \u001b[0;34m\u001b[0m\u001b[0m\n\u001b[1;32m     35\u001b[0m \u001b[0;34m\u001b[0m\u001b[0m\n",
            "\u001b[0;32m<ipython-input-27-972e2b8e9b00>\u001b[0m in \u001b[0;36msolution\u001b[0;34m(A)\u001b[0m\n\u001b[1;32m     21\u001b[0m                 \u001b[0;32mif\u001b[0m \u001b[0mi\u001b[0m \u001b[0;34m+\u001b[0m \u001b[0mfib\u001b[0m\u001b[0;34m[\u001b[0m\u001b[0mj\u001b[0m\u001b[0;34m]\u001b[0m \u001b[0;34m==\u001b[0m \u001b[0mlen\u001b[0m\u001b[0;34m(\u001b[0m\u001b[0mA\u001b[0m\u001b[0;34m)\u001b[0m \u001b[0;34m+\u001b[0m \u001b[0;36m1\u001b[0m\u001b[0;34m:\u001b[0m\u001b[0;34m\u001b[0m\u001b[0;34m\u001b[0m\u001b[0m\n\u001b[1;32m     22\u001b[0m                     \u001b[0mdp\u001b[0m\u001b[0;34m[\u001b[0m\u001b[0mlen\u001b[0m\u001b[0;34m(\u001b[0m\u001b[0mA\u001b[0m\u001b[0;34m)\u001b[0m \u001b[0;34m+\u001b[0m \u001b[0;36m1\u001b[0m\u001b[0;34m]\u001b[0m \u001b[0;34m=\u001b[0m \u001b[0mmin\u001b[0m\u001b[0;34m(\u001b[0m\u001b[0mdp\u001b[0m\u001b[0;34m[\u001b[0m\u001b[0mlen\u001b[0m\u001b[0;34m(\u001b[0m\u001b[0mA\u001b[0m\u001b[0;34m)\u001b[0m \u001b[0;34m+\u001b[0m \u001b[0;36m1\u001b[0m\u001b[0;34m]\u001b[0m\u001b[0;34m,\u001b[0m \u001b[0mdp\u001b[0m\u001b[0;34m[\u001b[0m\u001b[0mi\u001b[0m\u001b[0;34m]\u001b[0m \u001b[0;34m+\u001b[0m \u001b[0;36m1\u001b[0m\u001b[0;34m)\u001b[0m\u001b[0;34m\u001b[0m\u001b[0;34m\u001b[0m\u001b[0m\n\u001b[0;32m---> 23\u001b[0;31m                 \u001b[0;32melif\u001b[0m \u001b[0mi\u001b[0m \u001b[0;34m+\u001b[0m \u001b[0mfib\u001b[0m\u001b[0;34m[\u001b[0m\u001b[0mj\u001b[0m\u001b[0;34m]\u001b[0m \u001b[0;34m<=\u001b[0m \u001b[0mlen\u001b[0m\u001b[0;34m(\u001b[0m\u001b[0mA\u001b[0m\u001b[0;34m)\u001b[0m \u001b[0;32mand\u001b[0m \u001b[0mA\u001b[0m\u001b[0;34m[\u001b[0m\u001b[0mi\u001b[0m \u001b[0;34m+\u001b[0m \u001b[0mfib\u001b[0m\u001b[0;34m[\u001b[0m\u001b[0mj\u001b[0m\u001b[0;34m]\u001b[0m\u001b[0;34m]\u001b[0m \u001b[0;34m==\u001b[0m \u001b[0;36m1\u001b[0m\u001b[0;34m:\u001b[0m\u001b[0;34m\u001b[0m\u001b[0;34m\u001b[0m\u001b[0m\n\u001b[0m\u001b[1;32m     24\u001b[0m                     \u001b[0mdp\u001b[0m\u001b[0;34m[\u001b[0m\u001b[0mi\u001b[0m \u001b[0;34m+\u001b[0m \u001b[0mfib\u001b[0m\u001b[0;34m[\u001b[0m\u001b[0mj\u001b[0m\u001b[0;34m]\u001b[0m\u001b[0;34m]\u001b[0m \u001b[0;34m=\u001b[0m \u001b[0mmin\u001b[0m\u001b[0;34m(\u001b[0m\u001b[0mdp\u001b[0m\u001b[0;34m[\u001b[0m\u001b[0mi\u001b[0m \u001b[0;34m+\u001b[0m \u001b[0mfib\u001b[0m\u001b[0;34m[\u001b[0m\u001b[0mj\u001b[0m\u001b[0;34m]\u001b[0m\u001b[0;34m]\u001b[0m\u001b[0;34m,\u001b[0m \u001b[0mdp\u001b[0m\u001b[0;34m[\u001b[0m\u001b[0mi\u001b[0m\u001b[0;34m]\u001b[0m \u001b[0;34m+\u001b[0m \u001b[0;36m1\u001b[0m\u001b[0;34m)\u001b[0m\u001b[0;34m\u001b[0m\u001b[0;34m\u001b[0m\u001b[0m\n\u001b[1;32m     25\u001b[0m \u001b[0;34m\u001b[0m\u001b[0m\n",
            "\u001b[0;31mIndexError\u001b[0m: list index out of range"
          ]
        }
      ]
    },
    {
      "cell_type": "code",
      "source": [
        "def solution(A):\n",
        "    # Define the maximum possible number of jumps required\n",
        "    max_jumps = len(A) + 1\n",
        "\n",
        "    # Initialize the dp array\n",
        "    dp = [max_jumps] * (len(A) + 2)\n",
        "    dp[0] = 0\n",
        "\n",
        "    # Calculate the Fibonacci numbers up to the maximum possible jump length\n",
        "    fib = [0] * max_jumps\n",
        "    fib[1] = 1\n",
        "    for i in range(2, max_jumps):\n",
        "        fib[i] = fib[i - 1] + fib[i - 2]\n",
        "\n",
        "    # Iterate through the positions in the river\n",
        "    for i in range(len(A)):\n",
        "        # Check if there is a leaf at the current position\n",
        "        if A[i] == 1:\n",
        "            # Update the minimum number of jumps required at the current position\n",
        "            for j in range(1, max_jumps):\n",
        "                if i + fib[j] == len(A):\n",
        "                    dp[len(A)] = min(dp[len(A)], dp[i] + 1)\n",
        "                elif i + fib[j] < len(A) and A[i + fib[j]] == 1:\n",
        "                    dp[i + fib[j]] = min(dp[i + fib[j]], dp[i] + 1)\n",
        "\n",
        "    # Check if the frog can reach the other side of the river\n",
        "    if dp[len(A)] != max_jumps:\n",
        "        return dp[len(A)]\n",
        "    else:\n",
        "        return -1\n",
        "\n",
        "# Test case\n",
        "print(solution([0, 0, 0, 1, 1, 0, 1, 0, 0, 0, 0]))  # Output: 3\n",
        "\n"
      ],
      "metadata": {
        "colab": {
          "base_uri": "https://localhost:8080/"
        },
        "id": "ZOo0lWfgADXR",
        "outputId": "7025dfc5-161b-4505-80b9-5776df1033c0"
      },
      "execution_count": 41,
      "outputs": [
        {
          "output_type": "stream",
          "name": "stdout",
          "text": [
            "-1\n"
          ]
        }
      ]
    },
    {
      "cell_type": "code",
      "source": [
        "min_jumps\n",
        "fib_num"
      ],
      "metadata": {
        "colab": {
          "base_uri": "https://localhost:8080/"
        },
        "id": "DMHKGNZJxplX",
        "outputId": "62bc52b5-2749-4400-be71-58384c1c3714"
      },
      "execution_count": 14,
      "outputs": [
        {
          "output_type": "execute_result",
          "data": {
            "text/plain": [
              "[0, 0, 0, 0, 0, 0, 0, 0, 0, 0, 0]"
            ]
          },
          "metadata": {},
          "execution_count": 14
        }
      ]
    },
    {
      "cell_type": "markdown",
      "source": [
        "## Binary Search\n",
        "\n",
        "You are given integers K, M and a non-empty array A consisting of N integers. Every element of the array is not greater than M.\n",
        "\n",
        "You should divide this array into K blocks of consecutive elements. The size of the block is any integer between 0 and N. Every element of the array should belong to some block.\n",
        "\n",
        "The sum of the block from X to Y equals A[X] + A[X + 1] + ... + A[Y]. The sum of empty block equals 0.\n",
        "\n",
        "The large sum is the maximal sum of any block.\n",
        "\n",
        "For example, you are given integers K = 3, M = 5 and array A such that:\n",
        "\n",
        "  A[0] = 2\n",
        "  A[1] = 1\n",
        "  A[2] = 5\n",
        "  A[3] = 1\n",
        "  A[4] = 2\n",
        "  A[5] = 2\n",
        "  A[6] = 2\n",
        "The array can be divided, for example, into the following blocks:\n",
        "\n",
        "[2, 1, 5, 1, 2, 2, 2], [], [] with a large sum of 15;\n",
        "[2], [1, 5, 1, 2], [2, 2] with a large sum of 9;\n",
        "[2, 1, 5], [], [1, 2, 2, 2] with a large sum of 8;\n",
        "[2, 1], [5, 1], [2, 2, 2] with a large sum of 6.\n",
        "The goal is to minimize the large sum. In the above example, 6 is the minimal large sum.\n",
        "\n",
        "Write a function:\n",
        "\n",
        "def solution(K, M, A)\n",
        "that, given integers K, M and a non-empty array A consisting of N integers, returns the minimal large sum.\n",
        "\n",
        "For example, given K = 3, M = 5 and array A such that:\n",
        "\n",
        "  A[0] = 2\n",
        "  A[1] = 1\n",
        "  A[2] = 5\n",
        "  A[3] = 1\n",
        "  A[4] = 2\n",
        "  A[5] = 2\n",
        "  A[6] = 2\n",
        "the function should return 6, as explained above.\n",
        "\n",
        "Write an efficient algorithm for the following assumptions:\n",
        "\n",
        "N and K are integers within the range [1..100,000];\n",
        "M is an integer within the range [0..10,000];\n",
        "each element of array A is an integer within the range [0..M]."
      ],
      "metadata": {
        "id": "mLYVeBYP6GRh"
      }
    },
    {
      "cell_type": "code",
      "source": [
        "def is_valid(A, K, mid):\n",
        "    block_sum = 0\n",
        "    blocks = 1\n",
        "\n",
        "    for num in A:\n",
        "        block_sum += num\n",
        "        if block_sum > mid:\n",
        "            block_sum = num\n",
        "            blocks += 1\n",
        "            if blocks > K:\n",
        "                return False\n",
        "\n",
        "    return True\n",
        "\n",
        "def solution(K, M, A):\n",
        "    left = max(A)  # Lower bound\n",
        "    right = sum(A) # Upper bound\n",
        "\n",
        "    while left <= right:\n",
        "        mid = (left + right) // 2\n",
        "        if is_valid(A, K, mid):\n",
        "            right = mid - 1\n",
        "        else:\n",
        "            left = mid + 1\n",
        "\n",
        "    return left\n",
        "\n",
        "# Test case\n",
        "print(solution(3, 5, [2, 1, 5, 1, 2, 2, 2]))  # Output: 6\n"
      ],
      "metadata": {
        "colab": {
          "base_uri": "https://localhost:8080/"
        },
        "id": "_OyLT8Q6A9Fb",
        "outputId": "9fde030a-205f-4a2a-c55e-4060d38eb7c5"
      },
      "execution_count": 42,
      "outputs": [
        {
          "output_type": "stream",
          "name": "stdout",
          "text": [
            "6\n"
          ]
        }
      ]
    },
    {
      "cell_type": "markdown",
      "metadata": {
        "id": "99x_9mC8-7E_"
      },
      "source": []
    }
  ],
  "metadata": {
    "colab": {
      "provenance": [],
      "toc_visible": true,
      "authorship_tag": "ABX9TyMHkGkZClBJSPG5yGNDdWAd",
      "include_colab_link": true
    },
    "kernelspec": {
      "display_name": "Python 3",
      "name": "python3"
    },
    "language_info": {
      "name": "python"
    }
  },
  "nbformat": 4,
  "nbformat_minor": 0
}